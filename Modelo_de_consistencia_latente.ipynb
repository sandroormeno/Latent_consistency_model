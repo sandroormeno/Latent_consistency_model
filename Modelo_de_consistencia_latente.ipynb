{
  "nbformat": 4,
  "nbformat_minor": 0,
  "metadata": {
    "colab": {
      "provenance": [],
      "gpuType": "T4"
    },
    "kernelspec": {
      "name": "python3",
      "display_name": "Python 3"
    },
    "language_info": {
      "name": "python"
    },
    "accelerator": "GPU"
  },
  "cells": [
    {
      "cell_type": "markdown",
      "source": [
        "[![Open In Colab](https://colab.research.google.com/assets/colab-badge.svg)](https://github.com/sandroormeno/Llatent_consistency_model/blob/main/Modelo_de_consistencia_latente.ipynb)"
      ],
      "metadata": {
        "id": "mHjonuVedse3"
      }
    },
    {
      "cell_type": "code",
      "execution_count": null,
      "metadata": {
        "id": "zlCLtDLn9PWl",
        "cellView": "form"
      },
      "outputs": [],
      "source": [
        "#@title Instalando las librerías necesarias\n",
        "!pip install -q --upgrade diffusers --progress-bar off\n",
        "!pip install -q transformers --progress-bar off\n",
        "!pip install -q accelerate --progress-bar off\n",
        "!pip install -q peft --progress-bar off\n",
        "!pip install -q gradio==3.50.2 --progress-bar off"
      ]
    },
    {
      "cell_type": "code",
      "source": [
        "#@title Cargando el modelo LCM_Dreamshaper_v7\n",
        "from diffusers import DiffusionPipeline\n",
        "import torch\n",
        "\n",
        "pipe = DiffusionPipeline.from_pretrained(\"SimianLuo/LCM_Dreamshaper_v7\", revision=\"fb9c5d167af11fd84454ae6493878b10bb63b067\", safety_checker=None, custom_pipeline=\"latent_consistency_img2img\")\n",
        "pipe.to(torch_device=\"cuda\", torch_dtype=torch.float16)\n",
        "pipe.set_progress_bar_config(disable=True)"
      ],
      "metadata": {
        "id": "ap1R_0mj9X2g",
        "cellView": "form"
      },
      "execution_count": null,
      "outputs": []
    },
    {
      "cell_type": "code",
      "source": [
        "#@title Cargando la interface\n",
        "import gradio as gr\n",
        "\n",
        "def generate(prompt, input_image):\n",
        "  image = pipe(prompt, image=input_image, num_inference_steps=4, guidance_scale=8.0, lcm_origin_steps=50, strength=0.8).images[0]\n",
        "  return image.resize((768, 768))\n",
        "\n",
        "with gr.Blocks(title=f\"Realtime Latent Consistency Model\") as demo:\n",
        "    with gr.Row():\n",
        "      with gr.Column(scale=23):\n",
        "          textbox = gr.Textbox(show_label=False, value=\"a close-up picture of a fluffy cat\")\n",
        "\n",
        "    with gr.Row(variant=\"default\"):\n",
        "        input_image = gr.Image(\n",
        "            show_label=False,\n",
        "            type=\"pil\",\n",
        "            tool=\"color-sketch\",\n",
        "            source=\"canvas\",\n",
        "            height=742,\n",
        "            width=742,\n",
        "            brush_radius=10.0,\n",
        "        )\n",
        "        output_image = gr.Image(\n",
        "            show_label=False,\n",
        "            type=\"pil\",\n",
        "            interactive=False,\n",
        "            height=742,\n",
        "            width=742,\n",
        "            elem_id=\"output_image\",\n",
        "        )\n",
        "\n",
        "    textbox.change(fn=generate, inputs=[textbox, input_image], outputs=[output_image], show_progress=False)\n",
        "    input_image.change(fn=generate, inputs=[textbox, input_image], outputs=[output_image], show_progress=False)\n",
        "\n",
        "demo.launch(inline=False, share=True)\n",
        "#demo.launch(share=False)"
      ],
      "metadata": {
        "id": "XgdUib5t9bX_",
        "cellView": "form"
      },
      "execution_count": null,
      "outputs": []
    }
  ]
}
